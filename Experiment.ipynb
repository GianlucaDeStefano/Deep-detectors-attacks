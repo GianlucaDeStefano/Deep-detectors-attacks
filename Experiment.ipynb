{
 "cells": [
  {
   "cell_type": "code",
   "execution_count": 1,
   "outputs": [
    {
     "name": "stdout",
     "output_type": "stream",
     "text": [
      "WARNING:tensorflow:From /home/gianlucadestefano/Deep-detectors-attacks/Utilities/Visualizers/ExifVisualizer.py:15: The name tf.keras.backend.set_session is deprecated. Please use tf.compat.v1.keras.backend.set_session instead.\n",
      "\n"
     ]
    }
   ],
   "source": [
    "from Utilities.Confs.Configs import Configs\n",
    "from Datasets.DSO.DsoDataset import DsoDatasetDataset\n",
    "from Utilities.Visualizers.ExifVisualizer import ExifVisualizer"
   ],
   "metadata": {
    "collapsed": false,
    "pycharm": {
     "name": "#%%\n"
    }
   }
  },
  {
   "cell_type": "code",
   "execution_count": 2,
   "outputs": [],
   "source": [
    "configs = Configs(\"config.yaml\", \"Fixing Exif\")"
   ],
   "metadata": {
    "collapsed": false,
    "pycharm": {
     "name": "#%%\n"
    }
   }
  },
  {
   "cell_type": "code",
   "execution_count": 3,
   "outputs": [
    {
     "name": "stdout",
     "output_type": "stream",
     "text": [
      "DSO dataset\n"
     ]
    }
   ],
   "source": [
    "dataset = DsoDatasetDataset(configs[\"global\"][\"datasets\"][\"root\"])"
   ],
   "metadata": {
    "collapsed": false,
    "pycharm": {
     "name": "#%%\n"
    }
   }
  },
  {
   "cell_type": "code",
   "execution_count": 4,
   "outputs": [
    {
     "name": "stdout",
     "output_type": "stream",
     "text": [
      "WARNING:tensorflow:From /home/gianlucadestefano/Deep-detectors-attacks/venv/lib/python3.8/site-packages/tensorflow/python/util/deprecation.py:574: calling map_fn_v2 (from tensorflow.python.ops.map_fn) with dtype is deprecated and will be removed in a future version.\n",
      "Instructions for updating:\n",
      "Use fn_output_signature instead\n"
     ]
    },
    {
     "name": "stderr",
     "output_type": "stream",
     "text": [
      "WARNING  - From /home/gianlucadestefano/Deep-detectors-attacks/venv/lib/python3.8/site-packages/tensorflow/python/util/deprecation.py:574: calling map_fn_v2 (from tensorflow.python.ops.map_fn) with dtype is deprecated and will be removed in a future version.\n",
      "Instructions for updating:\n",
      "Use fn_output_signature instead\n"
     ]
    },
    {
     "name": "stdout",
     "output_type": "stream",
     "text": [
      "Initializing graph on gpu 0\n",
      "WARNING:tensorflow:From /home/gianlucadestefano/Deep-detectors-attacks/venv/lib/python3.8/site-packages/tf_slim/layers/layers.py:1089: Layer.apply (from tensorflow.python.keras.engine.base_layer_v1) is deprecated and will be removed in a future version.\n",
      "Instructions for updating:\n",
      "Please use `layer.__call__` method instead.\n"
     ]
    },
    {
     "name": "stderr",
     "output_type": "stream",
     "text": [
      "WARNING  - From /home/gianlucadestefano/Deep-detectors-attacks/venv/lib/python3.8/site-packages/tf_slim/layers/layers.py:1089: Layer.apply (from tensorflow.python.keras.engine.base_layer_v1) is deprecated and will be removed in a future version.\n",
      "Instructions for updating:\n",
      "Please use `layer.__call__` method instead.\n"
     ]
    },
    {
     "name": "stdout",
     "output_type": "stream",
     "text": [
      "affinity pred: (None, 83)\n",
      "affinity pred: (None, 83)\n",
      "/home/gianlucadestefano/Deep-detectors-attacks/Detectors/Exif/./ckpt/exif_final/exif_final.ckpt\n",
      "INFO:tensorflow:Restoring parameters from /home/gianlucadestefano/Deep-detectors-attacks/Detectors/Exif/./ckpt/exif_final/exif_final.ckpt\n",
      "unknown checkpoint string format /home/gianlucadestefano/Deep-detectors-attacks/Detectors/Exif/./ckpt/exif_final/exif_final.ckpt setting iteration to 0\n",
      "Succesfully resuming from /home/gianlucadestefano/Deep-detectors-attacks/Detectors/Exif/./ckpt/exif_final/exif_final.ckpt\n",
      "WARNING:tensorflow:From /home/gianlucadestefano/Deep-detectors-attacks/Detectors/Exif/models/exif/exif_solver.py:91: start_queue_runners (from tensorflow.python.training.queue_runner_impl) is deprecated and will be removed in a future version.\n",
      "Instructions for updating:\n",
      "To construct input pipelines, use the `tf.data` module.\n"
     ]
    },
    {
     "name": "stderr",
     "output_type": "stream",
     "text": [
      "WARNING  - From /home/gianlucadestefano/Deep-detectors-attacks/Detectors/Exif/models/exif/exif_solver.py:91: start_queue_runners (from tensorflow.python.training.queue_runner_impl) is deprecated and will be removed in a future version.\n",
      "Instructions for updating:\n",
      "To construct input pipelines, use the `tf.data` module.\n"
     ]
    },
    {
     "name": "stdout",
     "output_type": "stream",
     "text": [
      "WARNING:tensorflow:`tf.train.start_queue_runners()` was called when no queue runners were defined. You can safely remove the call to this deprecated function.\n"
     ]
    },
    {
     "name": "stderr",
     "output_type": "stream",
     "text": [
      "WARNING  - `tf.train.start_queue_runners()` was called when no queue runners were defined. You can safely remove the call to this deprecated function.\n"
     ]
    }
   ],
   "source": [
    "exif = ExifVisualizer()"
   ],
   "metadata": {
    "collapsed": false,
    "pycharm": {
     "name": "#%%\n"
    }
   }
  },
  {
   "cell_type": "code",
   "execution_count": 8,
   "outputs": [
    {
     "name": "stdout",
     "output_type": "stream",
     "text": [
      "ras sample 0.9999000099990001\n",
      "Res shape: (24, 32, 24, 32)\n",
      "[0.99990001 0.99994976 0.99913561 0.98550202 0.98611801 0.99696014\n",
      " 0.90712273 0.9083935  0.99533385 0.99453281 0.99521179 0.98885265\n",
      " 0.98030804 0.98661586 0.99436378 0.99071836 0.98031131 0.97311197\n",
      " 0.96582888 0.97722377 0.99500557 0.99293238 0.98069211 0.95979457\n",
      " 0.9660059  0.98363816 0.9890249  0.98556121 0.98705101 0.99684374\n",
      " 0.99320923 0.98808392]\n"
     ]
    },
    {
     "name": "stderr",
     "output_type": "stream",
     "text": [
      "/home/gianlucadestefano/Deep-detectors-attacks/venv/lib/python3.8/site-packages/sklearn/utils/validation.py:63: UserWarning: Array is not symmetric, and will be converted to symmetric by average with its transpose.\n",
      "  return f(*args, **kwargs)\n"
     ]
    },
    {
     "data": {
      "text/plain": "(array([[0.1109487 , 0.1109487 , 0.1109487 , ..., 0.12427081, 0.12427081,\n         0.12427081],\n        [0.1109487 , 0.1109487 , 0.1109487 , ..., 0.12427081, 0.12427081,\n         0.12427081],\n        [0.1109487 , 0.1109487 , 0.1109487 , ..., 0.12427081, 0.12427081,\n         0.12427081],\n        ...,\n        [0.42921585, 0.42921585, 0.42921585, ..., 0.24526235, 0.24526235,\n         0.24526235],\n        [0.42921585, 0.42921585, 0.42921585, ..., 0.24526235, 0.24526235,\n         0.24526235],\n        [0.42921585, 0.42921585, 0.42921585, ..., 0.24526235, 0.24526235,\n         0.24526235]]),\n array([[0., 0., 0., ..., 0., 0., 0.],\n        [0., 0., 0., ..., 0., 0., 0.],\n        [0., 0., 0., ..., 0., 0., 0.],\n        ...,\n        [1., 1., 1., ..., 1., 1., 1.],\n        [1., 1., 1., ..., 1., 1., 1.],\n        [1., 1., 1., ..., 1., 1., 1.]], dtype=float32))"
     },
     "execution_count": 8,
     "metadata": {},
     "output_type": "execute_result"
    }
   ],
   "source": [
    "from Utilities.Image.Picture import Picture\n",
    "\n",
    "image = Picture(dataset.get_image('splicing-70.png'))\n",
    "exif.predict(image,\"./result.png\")"
   ],
   "metadata": {
    "collapsed": false,
    "pycharm": {
     "name": "#%%\n"
    }
   }
  },
  {
   "cell_type": "code",
   "execution_count": null,
   "outputs": [],
   "source": [],
   "metadata": {
    "collapsed": false,
    "pycharm": {
     "name": "#%%\n"
    }
   }
  }
 ],
 "metadata": {
  "kernelspec": {
   "display_name": "Python 3",
   "language": "python",
   "name": "python3"
  },
  "language_info": {
   "codemirror_mode": {
    "name": "ipython",
    "version": 2
   },
   "file_extension": ".py",
   "mimetype": "text/x-python",
   "name": "python",
   "nbconvert_exporter": "python",
   "pygments_lexer": "ipython2",
   "version": "2.7.6"
  }
 },
 "nbformat": 4,
 "nbformat_minor": 0
}