{
 "cells": [
  {
   "cell_type": "code",
   "execution_count": 1,
   "outputs": [],
   "source": [
    "from Utilities.Confs.Configs import Configs\n",
    "from Datasets.DSO.DsoDataset import DsoDatasetDataset\n",
    "from Utilities.Visualizers.NoiseprintVisualizer import NoiseprintVisualizer"
   ],
   "metadata": {
    "collapsed": false,
    "pycharm": {
     "name": "#%%\n"
    }
   }
  },
  {
   "cell_type": "code",
   "execution_count": 2,
   "outputs": [],
   "source": [
    "configs = Configs(\"config.yaml\", \"Fixing Exif\")"
   ],
   "metadata": {
    "collapsed": false,
    "pycharm": {
     "name": "#%%\n"
    }
   }
  },
  {
   "cell_type": "code",
   "execution_count": 3,
   "outputs": [
    {
     "name": "stdout",
     "output_type": "stream",
     "text": [
      "DSO dataset\n"
     ]
    }
   ],
   "source": [
    "dataset = DsoDatasetDataset(configs[\"global\"][\"datasets\"][\"root\"])"
   ],
   "metadata": {
    "collapsed": false,
    "pycharm": {
     "name": "#%%\n"
    }
   }
  },
  {
   "cell_type": "code",
   "execution_count": 4,
   "outputs": [
    {
     "name": "stdout",
     "output_type": "stream",
     "text": [
      "WARNING:tensorflow:From /home/gianlucadestefano/Deep-detectors-attacks/Utilities/Visualizers/ExifVisualizer.py:15: The name tf.keras.backend.set_session is deprecated. Please use tf.compat.v1.keras.backend.set_session instead.\n",
      "\n"
     ]
    },
    {
     "name": "stderr",
     "output_type": "stream",
     "text": [
      "WARNING  - From /home/gianlucadestefano/Deep-detectors-attacks/Utilities/Visualizers/ExifVisualizer.py:15: The name tf.keras.backend.set_session is deprecated. Please use tf.compat.v1.keras.backend.set_session instead.\n",
      "\n"
     ]
    },
    {
     "name": "stdout",
     "output_type": "stream",
     "text": [
      "WARNING:tensorflow:From /home/gianlucadestefano/Deep-detectors-attacks/venv/lib/python3.8/site-packages/tensorflow/python/util/deprecation.py:574: calling map_fn_v2 (from tensorflow.python.ops.map_fn) with dtype is deprecated and will be removed in a future version.\n",
      "Instructions for updating:\n",
      "Use fn_output_signature instead\n"
     ]
    },
    {
     "name": "stderr",
     "output_type": "stream",
     "text": [
      "WARNING  - From /home/gianlucadestefano/Deep-detectors-attacks/venv/lib/python3.8/site-packages/tensorflow/python/util/deprecation.py:574: calling map_fn_v2 (from tensorflow.python.ops.map_fn) with dtype is deprecated and will be removed in a future version.\n",
      "Instructions for updating:\n",
      "Use fn_output_signature instead\n"
     ]
    },
    {
     "name": "stdout",
     "output_type": "stream",
     "text": [
      "Initializing graph on gpu 0\n",
      "WARNING:tensorflow:From /home/gianlucadestefano/Deep-detectors-attacks/venv/lib/python3.8/site-packages/tf_slim/layers/layers.py:1089: Layer.apply (from tensorflow.python.keras.engine.base_layer_v1) is deprecated and will be removed in a future version.\n",
      "Instructions for updating:\n",
      "Please use `layer.__call__` method instead.\n"
     ]
    },
    {
     "name": "stderr",
     "output_type": "stream",
     "text": [
      "WARNING  - From /home/gianlucadestefano/Deep-detectors-attacks/venv/lib/python3.8/site-packages/tf_slim/layers/layers.py:1089: Layer.apply (from tensorflow.python.keras.engine.base_layer_v1) is deprecated and will be removed in a future version.\n",
      "Instructions for updating:\n",
      "Please use `layer.__call__` method instead.\n"
     ]
    },
    {
     "name": "stdout",
     "output_type": "stream",
     "text": [
      "affinity pred: (None, 83)\n",
      "affinity pred: (None, 83)\n",
      "/home/gianlucadestefano/Deep-detectors-attacks/Detectors/Exif/./ckpt/exif_final/exif_final.ckpt\n",
      "INFO:tensorflow:Restoring parameters from /home/gianlucadestefano/Deep-detectors-attacks/Detectors/Exif/./ckpt/exif_final/exif_final.ckpt\n",
      "unknown checkpoint string format /home/gianlucadestefano/Deep-detectors-attacks/Detectors/Exif/./ckpt/exif_final/exif_final.ckpt setting iteration to 0\n",
      "Succesfully resuming from /home/gianlucadestefano/Deep-detectors-attacks/Detectors/Exif/./ckpt/exif_final/exif_final.ckpt\n",
      "WARNING:tensorflow:From /home/gianlucadestefano/Deep-detectors-attacks/Detectors/Exif/models/exif/exif_solver.py:91: start_queue_runners (from tensorflow.python.training.queue_runner_impl) is deprecated and will be removed in a future version.\n",
      "Instructions for updating:\n",
      "To construct input pipelines, use the `tf.data` module.\n"
     ]
    },
    {
     "name": "stderr",
     "output_type": "stream",
     "text": [
      "WARNING  - From /home/gianlucadestefano/Deep-detectors-attacks/Detectors/Exif/models/exif/exif_solver.py:91: start_queue_runners (from tensorflow.python.training.queue_runner_impl) is deprecated and will be removed in a future version.\n",
      "Instructions for updating:\n",
      "To construct input pipelines, use the `tf.data` module.\n"
     ]
    },
    {
     "name": "stdout",
     "output_type": "stream",
     "text": [
      "WARNING:tensorflow:`tf.train.start_queue_runners()` was called when no queue runners were defined. You can safely remove the call to this deprecated function.\n"
     ]
    },
    {
     "name": "stderr",
     "output_type": "stream",
     "text": [
      "WARNING  - `tf.train.start_queue_runners()` was called when no queue runners were defined. You can safely remove the call to this deprecated function.\n"
     ]
    }
   ],
   "source": [
    "from Utilities.Visualizers.ExifVisualizer import ExifVisualizer\n",
    "\n",
    "detector = ExifVisualizer()"
   ],
   "metadata": {
    "collapsed": false,
    "pycharm": {
     "name": "#%%\n"
    }
   }
  },
  {
   "cell_type": "code",
   "execution_count": 5,
   "outputs": [
    {
     "name": "stdout",
     "output_type": "stream",
     "text": [
      "Extracting features..\n",
      "Completed in 1227.0750985145569s\n",
      "Clustering...\n",
      "Completed in 222.09455108642578s\n"
     ]
    }
   ],
   "source": [
    "sample_path = dataset.get_image('splicing-70.png')\n",
    "detector.process_sample(sample_path)"
   ],
   "metadata": {
    "collapsed": false,
    "pycharm": {
     "name": "#%%\n"
    }
   }
  },
  {
   "cell_type": "code",
   "execution_count": 6,
   "outputs": [
    {
     "name": "stdout",
     "output_type": "stream",
     "text": [
      "done\n"
     ]
    }
   ],
   "source": [
    "detector.save_prediction_pipeline(\"exif-test.png\")"
   ],
   "metadata": {
    "collapsed": false,
    "pycharm": {
     "name": "#%%\n"
    }
   }
  },
  {
   "cell_type": "code",
   "execution_count": 7,
   "outputs": [
    {
     "name": "stdout",
     "output_type": "stream",
     "text": [
      "[[0.10250826 0.10250826 0.10250826 ... 0.07397932 0.07397932 0.07397932]\n",
      " [0.10250826 0.10250826 0.10250826 ... 0.07397932 0.07397932 0.07397932]\n",
      " [0.10250826 0.10250826 0.10250826 ... 0.07397932 0.07397932 0.07397932]\n",
      " ...\n",
      " [0.40529048 0.40529048 0.40529048 ... 0.1563501  0.1563501  0.1563501 ]\n",
      " [0.40529048 0.40529048 0.40529048 ... 0.1563501  0.1563501  0.1563501 ]\n",
      " [0.40529048 0.40529048 0.40529048 ... 0.1563501  0.1563501  0.1563501 ]]\n"
     ]
    }
   ],
   "source": [
    "print(detector.metadata[\"heatmap\"])"
   ],
   "metadata": {
    "collapsed": false,
    "pycharm": {
     "name": "#%%\n"
    }
   }
  },
  {
   "cell_type": "code",
   "execution_count": 7,
   "outputs": [],
   "source": [],
   "metadata": {
    "collapsed": false,
    "pycharm": {
     "name": "#%%\n"
    }
   }
  }
 ],
 "metadata": {
  "kernelspec": {
   "display_name": "Python 3",
   "language": "python",
   "name": "python3"
  },
  "language_info": {
   "codemirror_mode": {
    "name": "ipython",
    "version": 2
   },
   "file_extension": ".py",
   "mimetype": "text/x-python",
   "name": "python",
   "nbconvert_exporter": "python",
   "pygments_lexer": "ipython2",
   "version": "2.7.6"
  }
 },
 "nbformat": 4,
 "nbformat_minor": 0
}